{
 "cells": [
  {
   "cell_type": "markdown",
   "id": "819969ea",
   "metadata": {
    "slideshow": {
     "slide_type": "slide"
    }
   },
   "source": [
    "# オプショントレーダーによるJ-Quants API活用方法\n",
    "\n",
    "- マケデコハッカソン LT大会 presented by J-Quants\n",
    "- driller[@patraqushe](https://twitter.com/patraqushe)\n",
    "- 分析用のソースコードなどは [GitHubリポジトリ](https://github.com/drillan/mkdeco-hackathon-lt) で公開"
   ]
  },
  {
   "cell_type": "markdown",
   "id": "8bfecf36",
   "metadata": {
    "slideshow": {
     "slide_type": "subslide"
    }
   },
   "source": [
    "### お前誰よ\n",
    "\n",
    "- どりらん\n",
    "- 日経225オプションをやってます\n",
    "- fin-py（Python x 金融のコミュニティ）\n",
    "- かいた本\n",
    "<table>\n",
    "    <tr><td><img src=\"https://image.gihyo.co.jp/assets/images/cover/2020/9784297115685.jpg\" width=\"200\"></td>\n",
    "        <td><img src=\"https://www.asakura.co.jp/user_data/product_image/12258/1.jpg\" width=\"200\"></td>\n",
    "    </tr>\n",
    "</table>\n",
    "\n",
    "- [改訂版 Pythonユーザのための Jupyter［実践］入門](https://amzn.to/3OYmuld)\n",
    "- [Python インタラクティブ・データビジュアライゼーション入門](https://amzn.to/3oTN3xb)"
   ]
  },
  {
   "cell_type": "markdown",
   "id": "3c10c809",
   "metadata": {
    "slideshow": {
     "slide_type": "subslide"
    }
   },
   "source": [
    "### 今回はなすこと\n",
    "\n",
    "- 普段オプショントレーダーがどのようにデータをみているか\n",
    "    - **J-Quants APIから得られるデータだけ** を使って紹介\n",
    "- オプションの優位性\n",
    "    - データだけでも宝の山\n",
    "- オプションのデータは大変\n",
    "    - 計算すること、前処理すること、分析するために加工することがたくさんある\n",
    "    - ある程度の経験がないと難しいが、J-Quants APIのデータをいい感じに前処理するライブラリを作ったので紹介\n",
    "- オプションデータを使ったトレード戦略\n",
    "    - 特にここ最近は非常に珍しい状態になっているので、この状況を活かした戦略を立てる"
   ]
  },
  {
   "cell_type": "markdown",
   "id": "72d54198",
   "metadata": {
    "slideshow": {
     "slide_type": "subslide"
    }
   },
   "source": [
    "### 今回はなさないこと\n",
    "\n",
    "- グリークスとか小難しいはなし\n",
    "    - デルタ、ガンマ、ベガ、ボルガ、バンナ..."
   ]
  },
  {
   "cell_type": "markdown",
   "id": "8ae0f211",
   "metadata": {
    "slideshow": {
     "slide_type": "slide"
    }
   },
   "source": [
    "## Q1: どちらを持って指したいですか？\n",
    "\n",
    "![shogi](./images/shogi.png)"
   ]
  },
  {
   "cell_type": "markdown",
   "id": "69cf55af",
   "metadata": {
    "slideshow": {
     "slide_type": "fragment"
    }
   },
   "source": [
    "- 先手☗ ロング（ショート）\n",
    "- 後手☖ オプション"
   ]
  },
  {
   "cell_type": "markdown",
   "id": "6151ff30",
   "metadata": {
    "slideshow": {
     "slide_type": "subslide"
    }
   },
   "source": [
    "### オプション\n",
    "\n",
    "言葉の意味\n",
    "\n",
    "- 選択\n",
    "- 取捨\n",
    "- 選択肢\n"
   ]
  },
  {
   "cell_type": "markdown",
   "id": "b3daaa2d",
   "metadata": {
    "slideshow": {
     "slide_type": "subslide"
    }
   },
   "source": [
    "### オプション取引は無限の選択肢がある\n",
    "\n",
    "ごくごく一部の例\n",
    "\n",
    "- ブル目線でありつつも急落に備える\n",
    "- 急落した後のリバンドを狙うが、さらに急落した場合にも備える\n",
    "- ボラティリティの裁定取引\n",
    "    - ストライク\n",
    "    - 異限月\n",
    "- 現物（原資産）のヘッジ"
   ]
  },
  {
   "cell_type": "markdown",
   "id": "e6ac2b1c",
   "metadata": {
    "slideshow": {
     "slide_type": "subslide"
    }
   },
   "source": [
    "### オプションのデータは宝の山\n",
    "\n",
    "- ボラティリティのデータを俯瞰することで、さまざまなことが読み取れる\n",
    "- 相場参加者の恐怖・楽観・不安...\n",
    "- **みんなが見ていないデータこそ価値がある**\n",
    "\n",
    "![](./images/dq.jpg)"
   ]
  },
  {
   "cell_type": "markdown",
   "id": "ea0d2677",
   "metadata": {
    "slideshow": {
     "slide_type": "subslide"
    }
   },
   "source": [
    "### オプションのデータって...\n",
    "\n",
    "- とにかくデータが多い\n",
    "- とにかく計算しないといけない\n",
    "- とにかく前処理しないといけない"
   ]
  },
  {
   "cell_type": "markdown",
   "id": "34ae0dcc",
   "metadata": {
    "slideshow": {
     "slide_type": "subslide"
    }
   },
   "source": [
    "### こんなこともあろうかと\n",
    "\n",
    "- ライブラリ（Pythonパッケージ）を作った\n",
    "- 前処理不要\n",
    "- 一発で可視化\n",
    "- ほかにもあると便利な機能"
   ]
  },
  {
   "cell_type": "markdown",
   "id": "d8fe695c",
   "metadata": {
    "slideshow": {
     "slide_type": "slide"
    }
   },
   "source": [
    "## jquants-derivatives\n",
    "\n",
    "-  [J-Quants API Python クライアントライブラリ (jquants-api-client)](https://github.com/J-Quants/jquants-api-client-python) のデリバティブ用ラッパー\n",
    "- J-Quants APIのスタンダード以上のプランが必要\n",
    "- GitHub: https://github.com/drillan/jquants-derivatives\n",
    "- PyPI: https://pypi.org/project/jquants-derivatives/"
   ]
  },
  {
   "cell_type": "markdown",
   "id": "2babb722",
   "metadata": {
    "slideshow": {
     "slide_type": "subslide"
    }
   },
   "source": [
    "### インストール\n",
    "\n",
    "pipでインストール\n",
    "\n",
    "```bash\n",
    "pip install jquants-derivatives\n",
    "```"
   ]
  },
  {
   "cell_type": "markdown",
   "id": "ed08704d",
   "metadata": {
    "slideshow": {
     "slide_type": "slide"
    }
   },
   "source": [
    "### データの取得\n",
    "\n",
    "`jquantsapi.Client` クラスを継承しているので、[jquants-api-client](https://github.com/J-Quants/jquants-api-client-python)同じように使える"
   ]
  },
  {
   "cell_type": "code",
   "execution_count": 1,
   "id": "46079e67",
   "metadata": {
    "slideshow": {
     "slide_type": "fragment"
    }
   },
   "outputs": [],
   "source": [
    "import jquants_derivatives\n",
    "\n",
    "cli = jquants_derivatives.Client()"
   ]
  },
  {
   "cell_type": "code",
   "execution_count": 2,
   "id": "63216cbd",
   "metadata": {
    "slideshow": {
     "slide_type": "fragment"
    }
   },
   "outputs": [
    {
     "name": "stdout",
     "output_type": "stream",
     "text": [
      "CPU times: user 132 ms, sys: 41.3 ms, total: 173 ms\n",
      "Wall time: 6.13 s\n"
     ]
    },
    {
     "data": {
      "text/html": [
       "<div>\n",
       "<style scoped>\n",
       "    .dataframe tbody tr th:only-of-type {\n",
       "        vertical-align: middle;\n",
       "    }\n",
       "\n",
       "    .dataframe tbody tr th {\n",
       "        vertical-align: top;\n",
       "    }\n",
       "\n",
       "    .dataframe thead th {\n",
       "        text-align: right;\n",
       "    }\n",
       "</style>\n",
       "<table border=\"1\" class=\"dataframe\">\n",
       "  <thead>\n",
       "    <tr style=\"text-align: right;\">\n",
       "      <th></th>\n",
       "      <th>Date</th>\n",
       "      <th>Code</th>\n",
       "      <th>WholeDayOpen</th>\n",
       "      <th>WholeDayHigh</th>\n",
       "      <th>WholeDayLow</th>\n",
       "      <th>WholeDayClose</th>\n",
       "    </tr>\n",
       "  </thead>\n",
       "  <tbody>\n",
       "    <tr>\n",
       "      <th>0</th>\n",
       "      <td>2023-06-05</td>\n",
       "      <td>130060018</td>\n",
       "      <td>0.0</td>\n",
       "      <td>0.0</td>\n",
       "      <td>0.0</td>\n",
       "      <td>0.0</td>\n",
       "    </tr>\n",
       "    <tr>\n",
       "      <th>1</th>\n",
       "      <td>2023-06-05</td>\n",
       "      <td>130060218</td>\n",
       "      <td>0.0</td>\n",
       "      <td>0.0</td>\n",
       "      <td>0.0</td>\n",
       "      <td>0.0</td>\n",
       "    </tr>\n",
       "    <tr>\n",
       "      <th>2</th>\n",
       "      <td>2023-06-05</td>\n",
       "      <td>130060518</td>\n",
       "      <td>0.0</td>\n",
       "      <td>0.0</td>\n",
       "      <td>0.0</td>\n",
       "      <td>0.0</td>\n",
       "    </tr>\n",
       "  </tbody>\n",
       "</table>\n",
       "</div>"
      ],
      "text/plain": [
       "        Date       Code  WholeDayOpen  WholeDayHigh  WholeDayLow  \\\n",
       "0 2023-06-05  130060018           0.0           0.0          0.0   \n",
       "1 2023-06-05  130060218           0.0           0.0          0.0   \n",
       "2 2023-06-05  130060518           0.0           0.0          0.0   \n",
       "\n",
       "   WholeDayClose  \n",
       "0            0.0  \n",
       "1            0.0  \n",
       "2            0.0  "
      ]
     },
     "execution_count": 2,
     "metadata": {},
     "output_type": "execute_result"
    }
   ],
   "source": [
    "%%time\n",
    "df_20230605 = cli.get_option_index_option(\"2023-06-05\")\n",
    "df_20230605.iloc[:3, :6]"
   ]
  },
  {
   "cell_type": "markdown",
   "id": "a8fa1831",
   "metadata": {
    "slideshow": {
     "slide_type": "slide"
    }
   },
   "source": [
    "### キャッシュ機能\n",
    "\n",
    "- リクエストしたデータはディスクに保存される\n",
    "    - sqlite3のデータベース\n",
    "- 2回目以降はディスクから読み込まれる\n",
    "    - 高速な処理\n",
    "    - サーバに負荷をかけない ←**重要！**"
   ]
  },
  {
   "cell_type": "code",
   "execution_count": 3,
   "id": "00cd7e81",
   "metadata": {
    "slideshow": {
     "slide_type": "fragment"
    }
   },
   "outputs": [
    {
     "name": "stdout",
     "output_type": "stream",
     "text": [
      "CPU times: user 37.9 ms, sys: 3.7 ms, total: 41.6 ms\n",
      "Wall time: 40.7 ms\n"
     ]
    }
   ],
   "source": [
    "%%time\n",
    "df_20230605 = cli.get_option_index_option(\"2023-06-05\")"
   ]
  },
  {
   "cell_type": "markdown",
   "id": "4c562cdf",
   "metadata": {
    "slideshow": {
     "slide_type": "subslide"
    }
   },
   "source": [
    "### キャッシュされたらデータからSQLでクエリできる\n",
    "\n",
    "```bash\n",
    "pip install ipython-sql\n",
    "```"
   ]
  },
  {
   "cell_type": "code",
   "execution_count": 4,
   "id": "11593b8a",
   "metadata": {
    "slideshow": {
     "slide_type": "fragment"
    }
   },
   "outputs": [],
   "source": [
    "%load_ext sql"
   ]
  },
  {
   "cell_type": "code",
   "execution_count": 5,
   "id": "a5b9ded5",
   "metadata": {
    "slideshow": {
     "slide_type": "fragment"
    }
   },
   "outputs": [],
   "source": [
    "%sql sqlite:////home/vscode/.jquants-api/jquantsapi.db"
   ]
  },
  {
   "cell_type": "markdown",
   "id": "1fc86ed6",
   "metadata": {
    "slideshow": {
     "slide_type": "subslide"
    }
   },
   "source": [
    "#### テーブルの一覧"
   ]
  },
  {
   "cell_type": "code",
   "execution_count": 6,
   "id": "5b52d313",
   "metadata": {
    "slideshow": {
     "slide_type": "fragment"
    }
   },
   "outputs": [
    {
     "name": "stdout",
     "output_type": "stream",
     "text": [
      " * sqlite:////home/vscode/.jquants-api/jquantsapi.db\n",
      "Done.\n"
     ]
    },
    {
     "data": {
      "text/html": [
       "<table>\n",
       "    <thead>\n",
       "        <tr>\n",
       "            <th>name</th>\n",
       "        </tr>\n",
       "    </thead>\n",
       "    <tbody>\n",
       "        <tr>\n",
       "            <td>FINS_ANNOUNCEMENT</td>\n",
       "        </tr>\n",
       "        <tr>\n",
       "            <td>FINS_DIVIDEND</td>\n",
       "        </tr>\n",
       "        <tr>\n",
       "            <td>FINS_STATEMENTS</td>\n",
       "        </tr>\n",
       "        <tr>\n",
       "            <td>INDICES_TOPIX</td>\n",
       "        </tr>\n",
       "        <tr>\n",
       "            <td>LISTED_INFO</td>\n",
       "        </tr>\n",
       "        <tr>\n",
       "            <td>MARKETS_BREAKDOWN</td>\n",
       "        </tr>\n",
       "        <tr>\n",
       "            <td>MARKET_SEGMENT</td>\n",
       "        </tr>\n",
       "        <tr>\n",
       "            <td>MARKET_SHORT_SELLING</td>\n",
       "        </tr>\n",
       "        <tr>\n",
       "            <td>OPTION_INDEX_OPTION</td>\n",
       "        </tr>\n",
       "        <tr>\n",
       "            <td>PRICES_DAILY_QUOTES</td>\n",
       "        </tr>\n",
       "        <tr>\n",
       "            <td>PRICES_DAILY_QUOTES_PREMIUM</td>\n",
       "        </tr>\n",
       "        <tr>\n",
       "            <td>PRICES_PRICES_AM</td>\n",
       "        </tr>\n",
       "        <tr>\n",
       "            <td>SECTOR_17</td>\n",
       "        </tr>\n",
       "        <tr>\n",
       "            <td>SECTOR_33</td>\n",
       "        </tr>\n",
       "    </tbody>\n",
       "</table>"
      ],
      "text/plain": [
       "[('FINS_ANNOUNCEMENT',),\n",
       " ('FINS_DIVIDEND',),\n",
       " ('FINS_STATEMENTS',),\n",
       " ('INDICES_TOPIX',),\n",
       " ('LISTED_INFO',),\n",
       " ('MARKETS_BREAKDOWN',),\n",
       " ('MARKET_SEGMENT',),\n",
       " ('MARKET_SHORT_SELLING',),\n",
       " ('OPTION_INDEX_OPTION',),\n",
       " ('PRICES_DAILY_QUOTES',),\n",
       " ('PRICES_DAILY_QUOTES_PREMIUM',),\n",
       " ('PRICES_PRICES_AM',),\n",
       " ('SECTOR_17',),\n",
       " ('SECTOR_33',)]"
      ]
     },
     "execution_count": 6,
     "metadata": {},
     "output_type": "execute_result"
    }
   ],
   "source": [
    "%sql SELECT name FROM sqlite_master WHERE type='table';"
   ]
  },
  {
   "cell_type": "markdown",
   "id": "72f4825a",
   "metadata": {
    "slideshow": {
     "slide_type": "subslide"
    }
   },
   "source": [
    "#### SELECT文によるクエリ"
   ]
  },
  {
   "cell_type": "code",
   "execution_count": 7,
   "id": "dd2f6ae0",
   "metadata": {
    "slideshow": {
     "slide_type": "fragment"
    }
   },
   "outputs": [
    {
     "name": "stdout",
     "output_type": "stream",
     "text": [
      " * sqlite:////home/vscode/.jquants-api/jquantsapi.db\n",
      "Done.\n"
     ]
    },
    {
     "data": {
      "text/html": [
       "<table>\n",
       "    <thead>\n",
       "        <tr>\n",
       "            <th>Date</th>\n",
       "            <th>UnderlyingPrice</th>\n",
       "            <th>StrikePrice</th>\n",
       "        </tr>\n",
       "    </thead>\n",
       "    <tbody>\n",
       "        <tr>\n",
       "            <td>2023-06-05 00:00:00</td>\n",
       "            <td>32217.43</td>\n",
       "            <td>20000.0</td>\n",
       "        </tr>\n",
       "        <tr>\n",
       "            <td>2023-06-05 00:00:00</td>\n",
       "            <td>32217.43</td>\n",
       "            <td>20250.0</td>\n",
       "        </tr>\n",
       "        <tr>\n",
       "            <td>2023-06-05 00:00:00</td>\n",
       "            <td>32217.43</td>\n",
       "            <td>20500.0</td>\n",
       "        </tr>\n",
       "    </tbody>\n",
       "</table>"
      ],
      "text/plain": [
       "[('2023-06-05 00:00:00', 32217.43, 20000.0),\n",
       " ('2023-06-05 00:00:00', 32217.43, 20250.0),\n",
       " ('2023-06-05 00:00:00', 32217.43, 20500.0)]"
      ]
     },
     "execution_count": 7,
     "metadata": {},
     "output_type": "execute_result"
    }
   ],
   "source": [
    "%sql SELECT Date, UnderlyingPrice, StrikePrice FROM OPTION_INDEX_OPTION LIMIT 3;"
   ]
  },
  {
   "cell_type": "markdown",
   "id": "9dd74be8",
   "metadata": {
    "slideshow": {
     "slide_type": "subslide"
    }
   },
   "source": [
    "#### pandasによるクエリ"
   ]
  },
  {
   "cell_type": "code",
   "execution_count": 8,
   "id": "81e15982",
   "metadata": {
    "slideshow": {
     "slide_type": "fragment"
    }
   },
   "outputs": [
    {
     "data": {
      "text/html": [
       "<div>\n",
       "<style scoped>\n",
       "    .dataframe tbody tr th:only-of-type {\n",
       "        vertical-align: middle;\n",
       "    }\n",
       "\n",
       "    .dataframe tbody tr th {\n",
       "        vertical-align: top;\n",
       "    }\n",
       "\n",
       "    .dataframe thead th {\n",
       "        text-align: right;\n",
       "    }\n",
       "</style>\n",
       "<table border=\"1\" class=\"dataframe\">\n",
       "  <thead>\n",
       "    <tr style=\"text-align: right;\">\n",
       "      <th></th>\n",
       "      <th>Date</th>\n",
       "      <th>UnderlyingPrice</th>\n",
       "      <th>StrikePrice</th>\n",
       "    </tr>\n",
       "  </thead>\n",
       "  <tbody>\n",
       "    <tr>\n",
       "      <th>0</th>\n",
       "      <td>2023-06-05 00:00:00</td>\n",
       "      <td>32217.43</td>\n",
       "      <td>20000.0</td>\n",
       "    </tr>\n",
       "    <tr>\n",
       "      <th>1</th>\n",
       "      <td>2023-06-05 00:00:00</td>\n",
       "      <td>32217.43</td>\n",
       "      <td>20250.0</td>\n",
       "    </tr>\n",
       "    <tr>\n",
       "      <th>2</th>\n",
       "      <td>2023-06-05 00:00:00</td>\n",
       "      <td>32217.43</td>\n",
       "      <td>20500.0</td>\n",
       "    </tr>\n",
       "    <tr>\n",
       "      <th>3</th>\n",
       "      <td>2023-06-05 00:00:00</td>\n",
       "      <td>32217.43</td>\n",
       "      <td>20750.0</td>\n",
       "    </tr>\n",
       "    <tr>\n",
       "      <th>4</th>\n",
       "      <td>2023-06-05 00:00:00</td>\n",
       "      <td>32217.43</td>\n",
       "      <td>21000.0</td>\n",
       "    </tr>\n",
       "  </tbody>\n",
       "</table>\n",
       "</div>"
      ],
      "text/plain": [
       "                  Date  UnderlyingPrice  StrikePrice\n",
       "0  2023-06-05 00:00:00         32217.43      20000.0\n",
       "1  2023-06-05 00:00:00         32217.43      20250.0\n",
       "2  2023-06-05 00:00:00         32217.43      20500.0\n",
       "3  2023-06-05 00:00:00         32217.43      20750.0\n",
       "4  2023-06-05 00:00:00         32217.43      21000.0"
      ]
     },
     "execution_count": 8,
     "metadata": {},
     "output_type": "execute_result"
    }
   ],
   "source": [
    "import sqlite3\n",
    "import pandas as pd\n",
    "\n",
    "with sqlite3.connect(jquants_derivatives.database.db) as con:\n",
    "    query_df = pd.read_sql(\"SELECT Date, UnderlyingPrice, StrikePrice FROM OPTION_INDEX_OPTION\", con)\n",
    "\n",
    "query_df.head()"
   ]
  },
  {
   "cell_type": "markdown",
   "id": "de39dc34",
   "metadata": {
    "slideshow": {
     "slide_type": "slide"
    }
   },
   "source": [
    "### 型変換機能\n",
    "\n",
    "DataFrameの各列は[jquants_derivatives/models](https://github.com/drillan/jquants-derivatives/blob/main/jquants_derivatives/models.py)で定義したデータ型に自動で型変換される\n",
    "\n",
    "```python\n",
    "@dataclass\n",
    "class IndexOption(DataFrameColumnsBase):\n",
    "    Date: np.dtype(\"datetime64[ns]\")\n",
    "    Code: str\n",
    "    WholeDayOpen: float\n",
    "    WholeDayHigh: float\n",
    "    WholeDayLow: float\n",
    "    WholeDayClose: float\n",
    "    NightSessionOpen: float\n",
    "    NightSessionHigh: float\n",
    "    NightSessionLow: float\n",
    "    NightSessionClose: float\n",
    "    DaySessionOpen: float\n",
    "    DaySessionHigh: float\n",
    "    DaySessionLow: float\n",
    "    DaySessionClose: float\n",
    "    Volume: float\n",
    "    OpenInterest: float\n",
    "    TurnoverValue: float\n",
    "    ContractMonth: str\n",
    "    StrikePrice: float\n",
    "    VolumeOnlyAuction: float\n",
    "    EmergencyMarginTriggerDivision: str\n",
    "    PutCallDivision: int\n",
    "    LastTradingDay: np.dtype(\"datetime64[ns]\")\n",
    "    SpecialQuotationDay: np.dtype(\"datetime64[ns]\")\n",
    "    SettlementPrice: float\n",
    "    TheoreticalPrice: float\n",
    "    BaseVolatility: float\n",
    "    UnderlyingPrice: float\n",
    "    ImpliedVolatility: float\n",
    "    InterestRate: float\n",
    "\n",
    "    @classmethod\n",
    "    def get_dtype(cls, field: str) -> Type[Any]:\n",
    "        key = field.replace(\"(\", \"\").replace(\")\", \"\")\n",
    "        return cls.__annotations__[key]\n",
    "```"
   ]
  },
  {
   "cell_type": "markdown",
   "id": "8b5b4313",
   "metadata": {
    "slideshow": {
     "slide_type": "subslide"
    }
   },
   "source": [
    "### 型変換とキャッシュ機能はjquants-api-clientにPRするかも？\n",
    "\n",
    "- もしこれらの機能を気に入ってくれるなら、本家に取り込んでもらいたい\n",
    "- 現状は `オプション四本値(/option/index_option)` のエンドポイントにしか対応していない"
   ]
  },
  {
   "cell_type": "markdown",
   "id": "efda95bc",
   "metadata": {
    "slideshow": {
     "slide_type": "slide"
    }
   },
   "source": [
    "### Optionクラス\n",
    "\n",
    "- 実務上扱いやすい形式に変換するクラス"
   ]
  },
  {
   "cell_type": "code",
   "execution_count": 9,
   "id": "6172aabb",
   "metadata": {
    "slideshow": {
     "slide_type": "fragment"
    }
   },
   "outputs": [
    {
     "data": {
      "text/plain": [
       "['2023-06', '2023-07']"
      ]
     },
     "execution_count": 9,
     "metadata": {},
     "output_type": "execute_result"
    }
   ],
   "source": [
    "from jquants_derivatives import Option\n",
    "\n",
    "op_20230605 = Option(df_20230605, contracts=2)\n",
    "op_20230605.contract_month"
   ]
  },
  {
   "cell_type": "code",
   "execution_count": 10,
   "id": "c1dd331f",
   "metadata": {
    "slideshow": {
     "slide_type": "fragment"
    }
   },
   "outputs": [
    {
     "data": {
      "text/plain": [
       "{'2023-06': 32217.43, '2023-07': 32217.43}"
      ]
     },
     "execution_count": 10,
     "metadata": {},
     "output_type": "execute_result"
    }
   ],
   "source": [
    "op_20230605.underlying_price"
   ]
  },
  {
   "cell_type": "code",
   "execution_count": 11,
   "id": "f7d31f4e",
   "metadata": {
    "slideshow": {
     "slide_type": "fragment"
    }
   },
   "outputs": [
    {
     "data": {
      "text/html": [
       "<div>\n",
       "<style scoped>\n",
       "    .dataframe tbody tr th:only-of-type {\n",
       "        vertical-align: middle;\n",
       "    }\n",
       "\n",
       "    .dataframe tbody tr th {\n",
       "        vertical-align: top;\n",
       "    }\n",
       "\n",
       "    .dataframe thead th {\n",
       "        text-align: right;\n",
       "    }\n",
       "</style>\n",
       "<table border=\"1\" class=\"dataframe\">\n",
       "  <thead>\n",
       "    <tr style=\"text-align: right;\">\n",
       "      <th></th>\n",
       "      <th>Date</th>\n",
       "      <th>Code</th>\n",
       "      <th>WholeDayOpen</th>\n",
       "      <th>WholeDayHigh</th>\n",
       "      <th>WholeDayLow</th>\n",
       "      <th>WholeDayClose</th>\n",
       "      <th>NightSessionOpen</th>\n",
       "      <th>NightSessionHigh</th>\n",
       "      <th>NightSessionLow</th>\n",
       "      <th>NightSessionClose</th>\n",
       "      <th>...</th>\n",
       "      <th>EmergencyMarginTriggerDivision</th>\n",
       "      <th>PutCallDivision</th>\n",
       "      <th>LastTradingDay</th>\n",
       "      <th>SpecialQuotationDay</th>\n",
       "      <th>SettlementPrice</th>\n",
       "      <th>TheoreticalPrice</th>\n",
       "      <th>BaseVolatility</th>\n",
       "      <th>UnderlyingPrice</th>\n",
       "      <th>ImpliedVolatility</th>\n",
       "      <th>InterestRate</th>\n",
       "    </tr>\n",
       "  </thead>\n",
       "  <tbody>\n",
       "    <tr>\n",
       "      <th>0</th>\n",
       "      <td>2023-06-05</td>\n",
       "      <td>138067618</td>\n",
       "      <td>3.0</td>\n",
       "      <td>3.0</td>\n",
       "      <td>1.0</td>\n",
       "      <td>1.0</td>\n",
       "      <td>3.0</td>\n",
       "      <td>3.0</td>\n",
       "      <td>3.0</td>\n",
       "      <td>3.0</td>\n",
       "      <td>...</td>\n",
       "      <td>002</td>\n",
       "      <td>1</td>\n",
       "      <td>2023-06-08</td>\n",
       "      <td>2023-06-09</td>\n",
       "      <td>1.0</td>\n",
       "      <td>1.0000</td>\n",
       "      <td>0.195121</td>\n",
       "      <td>32217.43</td>\n",
       "      <td>0.513807</td>\n",
       "      <td>-0.000664</td>\n",
       "    </tr>\n",
       "    <tr>\n",
       "      <th>1</th>\n",
       "      <td>2023-06-05</td>\n",
       "      <td>188067718</td>\n",
       "      <td>3.0</td>\n",
       "      <td>4.0</td>\n",
       "      <td>1.0</td>\n",
       "      <td>2.0</td>\n",
       "      <td>3.0</td>\n",
       "      <td>4.0</td>\n",
       "      <td>3.0</td>\n",
       "      <td>3.0</td>\n",
       "      <td>...</td>\n",
       "      <td>002</td>\n",
       "      <td>1</td>\n",
       "      <td>2023-06-08</td>\n",
       "      <td>2023-06-09</td>\n",
       "      <td>2.0</td>\n",
       "      <td>2.0000</td>\n",
       "      <td>0.195121</td>\n",
       "      <td>32217.43</td>\n",
       "      <td>0.535335</td>\n",
       "      <td>-0.000664</td>\n",
       "    </tr>\n",
       "    <tr>\n",
       "      <th>2</th>\n",
       "      <td>2023-06-05</td>\n",
       "      <td>138067818</td>\n",
       "      <td>3.0</td>\n",
       "      <td>4.0</td>\n",
       "      <td>2.0</td>\n",
       "      <td>2.0</td>\n",
       "      <td>3.0</td>\n",
       "      <td>4.0</td>\n",
       "      <td>3.0</td>\n",
       "      <td>3.0</td>\n",
       "      <td>...</td>\n",
       "      <td>002</td>\n",
       "      <td>1</td>\n",
       "      <td>2023-06-08</td>\n",
       "      <td>2023-06-09</td>\n",
       "      <td>2.0</td>\n",
       "      <td>2.0844</td>\n",
       "      <td>0.195121</td>\n",
       "      <td>32217.43</td>\n",
       "      <td>0.520748</td>\n",
       "      <td>-0.000664</td>\n",
       "    </tr>\n",
       "    <tr>\n",
       "      <th>3</th>\n",
       "      <td>2023-06-05</td>\n",
       "      <td>188068018</td>\n",
       "      <td>3.0</td>\n",
       "      <td>4.0</td>\n",
       "      <td>1.0</td>\n",
       "      <td>2.0</td>\n",
       "      <td>3.0</td>\n",
       "      <td>4.0</td>\n",
       "      <td>3.0</td>\n",
       "      <td>3.0</td>\n",
       "      <td>...</td>\n",
       "      <td>002</td>\n",
       "      <td>1</td>\n",
       "      <td>2023-06-08</td>\n",
       "      <td>2023-06-09</td>\n",
       "      <td>2.0</td>\n",
       "      <td>2.0000</td>\n",
       "      <td>0.195121</td>\n",
       "      <td>32217.43</td>\n",
       "      <td>0.506194</td>\n",
       "      <td>-0.000664</td>\n",
       "    </tr>\n",
       "    <tr>\n",
       "      <th>4</th>\n",
       "      <td>2023-06-05</td>\n",
       "      <td>138068118</td>\n",
       "      <td>4.0</td>\n",
       "      <td>4.0</td>\n",
       "      <td>2.0</td>\n",
       "      <td>2.0</td>\n",
       "      <td>4.0</td>\n",
       "      <td>4.0</td>\n",
       "      <td>3.0</td>\n",
       "      <td>3.0</td>\n",
       "      <td>...</td>\n",
       "      <td>002</td>\n",
       "      <td>1</td>\n",
       "      <td>2023-06-08</td>\n",
       "      <td>2023-06-09</td>\n",
       "      <td>2.0</td>\n",
       "      <td>2.0000</td>\n",
       "      <td>0.195121</td>\n",
       "      <td>32217.43</td>\n",
       "      <td>0.491672</td>\n",
       "      <td>-0.000664</td>\n",
       "    </tr>\n",
       "  </tbody>\n",
       "</table>\n",
       "<p>5 rows × 30 columns</p>\n",
       "</div>"
      ],
      "text/plain": [
       "        Date       Code  WholeDayOpen  WholeDayHigh  WholeDayLow  \\\n",
       "0 2023-06-05  138067618           3.0           3.0          1.0   \n",
       "1 2023-06-05  188067718           3.0           4.0          1.0   \n",
       "2 2023-06-05  138067818           3.0           4.0          2.0   \n",
       "3 2023-06-05  188068018           3.0           4.0          1.0   \n",
       "4 2023-06-05  138068118           4.0           4.0          2.0   \n",
       "\n",
       "   WholeDayClose  NightSessionOpen  NightSessionHigh  NightSessionLow  \\\n",
       "0            1.0               3.0               3.0              3.0   \n",
       "1            2.0               3.0               4.0              3.0   \n",
       "2            2.0               3.0               4.0              3.0   \n",
       "3            2.0               3.0               4.0              3.0   \n",
       "4            2.0               4.0               4.0              3.0   \n",
       "\n",
       "   NightSessionClose  ...  EmergencyMarginTriggerDivision  PutCallDivision  \\\n",
       "0                3.0  ...                             002                1   \n",
       "1                3.0  ...                             002                1   \n",
       "2                3.0  ...                             002                1   \n",
       "3                3.0  ...                             002                1   \n",
       "4                3.0  ...                             002                1   \n",
       "\n",
       "   LastTradingDay  SpecialQuotationDay  SettlementPrice  TheoreticalPrice  \\\n",
       "0      2023-06-08           2023-06-09              1.0            1.0000   \n",
       "1      2023-06-08           2023-06-09              2.0            2.0000   \n",
       "2      2023-06-08           2023-06-09              2.0            2.0844   \n",
       "3      2023-06-08           2023-06-09              2.0            2.0000   \n",
       "4      2023-06-08           2023-06-09              2.0            2.0000   \n",
       "\n",
       "   BaseVolatility UnderlyingPrice  ImpliedVolatility  InterestRate  \n",
       "0        0.195121        32217.43           0.513807     -0.000664  \n",
       "1        0.195121        32217.43           0.535335     -0.000664  \n",
       "2        0.195121        32217.43           0.520748     -0.000664  \n",
       "3        0.195121        32217.43           0.506194     -0.000664  \n",
       "4        0.195121        32217.43           0.491672     -0.000664  \n",
       "\n",
       "[5 rows x 30 columns]"
      ]
     },
     "execution_count": 11,
     "metadata": {},
     "output_type": "execute_result"
    }
   ],
   "source": [
    "op_20230605.contracts_dfs[\"2023-06\"].head()"
   ]
  },
  {
   "cell_type": "markdown",
   "id": "4d2f239b",
   "metadata": {
    "slideshow": {
     "slide_type": "slide"
    }
   },
   "source": [
    "### ボラティリティの可視化\n",
    "\n",
    "Plotlyによる可視化"
   ]
  },
  {
   "cell_type": "code",
   "execution_count": 12,
   "id": "bffbf29b",
   "metadata": {
    "slideshow": {
     "slide_type": "fragment"
    }
   },
   "outputs": [
    {
     "data": {
      "text/html": [
       "<iframe\n",
       "    scrolling=\"no\"\n",
       "    width=\"820px\"\n",
       "    height=\"545px\"\n",
       "    src=\"iframe_figures/figure_12.html\"\n",
       "    frameborder=\"0\"\n",
       "    allowfullscreen\n",
       "></iframe>\n"
      ]
     },
     "metadata": {},
     "output_type": "display_data"
    }
   ],
   "source": [
    "jquants_derivatives.plot_volatility(op_20230605).update_layout(width=800)"
   ]
  },
  {
   "cell_type": "markdown",
   "id": "ed32ecd5",
   "metadata": {
    "slideshow": {
     "slide_type": "subslide"
    }
   },
   "source": [
    "#### 異なる日のデータを比較"
   ]
  },
  {
   "cell_type": "code",
   "execution_count": 13,
   "id": "edd649ef",
   "metadata": {
    "slideshow": {
     "slide_type": "fragment"
    }
   },
   "outputs": [
    {
     "data": {
      "text/html": [
       "<iframe\n",
       "    scrolling=\"no\"\n",
       "    width=\"820px\"\n",
       "    height=\"545px\"\n",
       "    src=\"iframe_figures/figure_13.html\"\n",
       "    frameborder=\"0\"\n",
       "    allowfullscreen\n",
       "></iframe>\n"
      ]
     },
     "metadata": {},
     "output_type": "display_data"
    }
   ],
   "source": [
    "df_20230602 = cli.get_option_index_option(\"2023-06-02\")\n",
    "op_20230602 = Option(df_20230602)\n",
    "jquants_derivatives.plot_volatility(op_20230605, op_20230602).update_layout(width=800)"
   ]
  },
  {
   "cell_type": "code",
   "execution_count": 18,
   "id": "f23f9cbd",
   "metadata": {
    "slideshow": {
     "slide_type": "skip"
    }
   },
   "outputs": [],
   "source": [
    "import pickle\n",
    "\n",
    "with open(\"save_fig.pickle\", \"rb\") as f:\n",
    "    save_fig = pickle.load(f)"
   ]
  },
  {
   "cell_type": "markdown",
   "id": "6073fa9a",
   "metadata": {
    "slideshow": {
     "slide_type": "slide"
    }
   },
   "source": [
    "## インプライドボラティリティと原資産価格を分析"
   ]
  },
  {
   "cell_type": "code",
   "execution_count": 19,
   "id": "298feece",
   "metadata": {
    "slideshow": {
     "slide_type": "fragment"
    }
   },
   "outputs": [
    {
     "data": {
      "text/html": [
       "<iframe\n",
       "    scrolling=\"no\"\n",
       "    width=\"820px\"\n",
       "    height=\"545px\"\n",
       "    src=\"iframe_figures/figure_19.html\"\n",
       "    frameborder=\"0\"\n",
       "    allowfullscreen\n",
       "></iframe>\n"
      ]
     },
     "metadata": {},
     "output_type": "display_data"
    }
   ],
   "source": [
    "save_fig[\"原資産価格(日経225)とインプライドボラティリティの時系列データ\"]"
   ]
  },
  {
   "cell_type": "markdown",
   "id": "a59a19b9",
   "metadata": {
    "slideshow": {
     "slide_type": "subslide"
    }
   },
   "source": [
    "### 原資産価格とボラティリティの騰落率\n",
    "\n",
    "- 原資産価格が上昇→ボラティリティが下落（上げ剥げ:アゲハゲ）\n",
    "- 原資産価格が下落→ボラティリティが上昇（下げ盛り:サゲモリ)"
   ]
  },
  {
   "cell_type": "code",
   "execution_count": 20,
   "id": "00d36550",
   "metadata": {
    "slideshow": {
     "slide_type": "fragment"
    }
   },
   "outputs": [
    {
     "data": {
      "text/html": [
       "<iframe\n",
       "    scrolling=\"no\"\n",
       "    width=\"820px\"\n",
       "    height=\"545px\"\n",
       "    src=\"iframe_figures/figure_20.html\"\n",
       "    frameborder=\"0\"\n",
       "    allowfullscreen\n",
       "></iframe>\n"
      ]
     },
     "metadata": {},
     "output_type": "display_data"
    }
   ],
   "source": [
    "save_fig[\"原資産価格とボラティリティの騰落率\"]"
   ]
  },
  {
   "cell_type": "markdown",
   "id": "0e2de46c",
   "metadata": {
    "slideshow": {
     "slide_type": "subslide"
    }
   },
   "source": [
    "### ボラティリティの上昇局面・下落局面においての原資産価格の分布\n",
    "\n",
    "- ボラティリティが上昇すると、ダウンサイドのテール\n",
    "- ボラティリティが下落すると、アップサイドのテール"
   ]
  },
  {
   "cell_type": "code",
   "execution_count": 21,
   "id": "3dcfc157",
   "metadata": {
    "slideshow": {
     "slide_type": "fragment"
    }
   },
   "outputs": [
    {
     "data": {
      "text/html": [
       "<iframe\n",
       "    scrolling=\"no\"\n",
       "    width=\"820px\"\n",
       "    height=\"545px\"\n",
       "    src=\"iframe_figures/figure_21.html\"\n",
       "    frameborder=\"0\"\n",
       "    allowfullscreen\n",
       "></iframe>\n"
      ]
     },
     "metadata": {},
     "output_type": "display_data"
    }
   ],
   "source": [
    "save_fig[\"ボラティリティの上昇局面・下落局面においての原資産価格の分布\"]"
   ]
  },
  {
   "cell_type": "markdown",
   "id": "02cda850",
   "metadata": {
    "slideshow": {
     "slide_type": "subslide"
    }
   },
   "source": [
    "### 2023年5月は特殊な状況に\n",
    "\n",
    "- 2019年以降、1076日中、上げ盛り（アゲモリ）は39日\n",
    "- 直近では極めてめずらしいアゲモリ状態に"
   ]
  },
  {
   "cell_type": "code",
   "execution_count": 22,
   "id": "b333d3bb",
   "metadata": {
    "slideshow": {
     "slide_type": "fragment"
    }
   },
   "outputs": [
    {
     "data": {
      "text/html": [
       "<iframe\n",
       "    scrolling=\"no\"\n",
       "    width=\"820px\"\n",
       "    height=\"545px\"\n",
       "    src=\"iframe_figures/figure_22.html\"\n",
       "    frameborder=\"0\"\n",
       "    allowfullscreen\n",
       "></iframe>\n"
      ]
     },
     "metadata": {},
     "output_type": "display_data"
    }
   ],
   "source": [
    "save_fig[\"原資産価格とボラティリティの騰落率（2023年5月以降のアゲモリ）\"]"
   ]
  },
  {
   "cell_type": "markdown",
   "id": "1c62368b",
   "metadata": {
    "slideshow": {
     "slide_type": "subslide"
    }
   },
   "source": [
    "### アゲモリ局面の原資産価格の分布\n",
    "\n",
    "- 原資産価格とボラティリティの両方が1%以上上昇した場合、しばらくは原資産価格が上昇傾向にある"
   ]
  },
  {
   "cell_type": "code",
   "execution_count": 23,
   "id": "e31215bd",
   "metadata": {
    "slideshow": {
     "slide_type": "fragment"
    }
   },
   "outputs": [
    {
     "data": {
      "text/html": [
       "<iframe\n",
       "    scrolling=\"no\"\n",
       "    width=\"820px\"\n",
       "    height=\"545px\"\n",
       "    src=\"iframe_figures/figure_23.html\"\n",
       "    frameborder=\"0\"\n",
       "    allowfullscreen\n",
       "></iframe>\n"
      ]
     },
     "metadata": {},
     "output_type": "display_data"
    }
   ],
   "source": [
    "save_fig[\"アゲモリ局面の原資産価格の分布\"]"
   ]
  },
  {
   "cell_type": "markdown",
   "id": "d15a6975",
   "metadata": {},
   "source": [
    "### アゲモリ局面の原資産価格とボラティリティの分布\n",
    "\n",
    "- 原資産価格価格の上昇が続いても、ボラティリティは落ち着いていく"
   ]
  },
  {
   "cell_type": "code",
   "execution_count": 24,
   "id": "d342528f",
   "metadata": {},
   "outputs": [
    {
     "data": {
      "text/html": [
       "<iframe\n",
       "    scrolling=\"no\"\n",
       "    width=\"820px\"\n",
       "    height=\"545px\"\n",
       "    src=\"iframe_figures/figure_24.html\"\n",
       "    frameborder=\"0\"\n",
       "    allowfullscreen\n",
       "></iframe>\n"
      ]
     },
     "metadata": {},
     "output_type": "display_data"
    }
   ],
   "source": [
    "save_fig[\"アゲモリ局面の原資産価格とボラティリティの分布\"]"
   ]
  },
  {
   "cell_type": "markdown",
   "id": "95013562",
   "metadata": {
    "slideshow": {
     "slide_type": "slide"
    }
   },
   "source": [
    "## アゲモリ局面のトレード戦略\n",
    "\n",
    "- 原資産（先物）をロング\n",
    "- ボラティリティ(オプション）をショート"
   ]
  },
  {
   "cell_type": "code",
   "execution_count": 25,
   "id": "4eff2ebc",
   "metadata": {
    "slideshow": {
     "slide_type": "fragment"
    }
   },
   "outputs": [
    {
     "data": {
      "text/html": [
       "<iframe\n",
       "    scrolling=\"no\"\n",
       "    width=\"820px\"\n",
       "    height=\"545px\"\n",
       "    src=\"iframe_figures/figure_25.html\"\n",
       "    frameborder=\"0\"\n",
       "    allowfullscreen\n",
       "></iframe>\n"
      ]
     },
     "metadata": {},
     "output_type": "display_data"
    }
   ],
   "source": [
    "save_fig[\"原資産をロングした場合の損益と、ボラティリティのショートを組み合わせた損益\"]"
   ]
  },
  {
   "cell_type": "markdown",
   "id": "edd8b14f",
   "metadata": {
    "slideshow": {
     "slide_type": "subslide"
    }
   },
   "source": [
    "### 2019年11月5日のボラティリティスマイル\n",
    "\n",
    "- 無作為にアゲモリの最初のデータを抽出\n",
    "- 特にコール側のボラティリティが盛っている"
   ]
  },
  {
   "cell_type": "code",
   "execution_count": 26,
   "id": "289e07a5",
   "metadata": {
    "slideshow": {
     "slide_type": "fragment"
    }
   },
   "outputs": [
    {
     "data": {
      "text/html": [
       "<iframe\n",
       "    scrolling=\"no\"\n",
       "    width=\"820px\"\n",
       "    height=\"545px\"\n",
       "    src=\"iframe_figures/figure_26.html\"\n",
       "    frameborder=\"0\"\n",
       "    allowfullscreen\n",
       "></iframe>\n"
      ]
     },
     "metadata": {},
     "output_type": "display_data"
    }
   ],
   "source": [
    "save_fig[\"2019年11月5日のボラティリティスマイル\"]"
   ]
  },
  {
   "cell_type": "markdown",
   "id": "bd07af53",
   "metadata": {
    "slideshow": {
     "slide_type": "subslide"
    }
   },
   "source": [
    "### トレード戦略（カバードコール）\n",
    "\n",
    "- 原資産（先物12月限）をロング\n",
    "    - @23251.99\n",
    "- コールオプション（12月限23500）をショート\n",
    "    - @290"
   ]
  },
  {
   "cell_type": "markdown",
   "id": "121fbe9f",
   "metadata": {
    "slideshow": {
     "slide_type": "subslide"
    }
   },
   "source": [
    "### 2019年11月6日のボラティリティスマイル\n",
    "\n",
    "- コール側のボラティリティが下落（アゲハゲ）"
   ]
  },
  {
   "cell_type": "code",
   "execution_count": 27,
   "id": "74f47151",
   "metadata": {
    "slideshow": {
     "slide_type": "fragment"
    }
   },
   "outputs": [
    {
     "data": {
      "text/html": [
       "<iframe\n",
       "    scrolling=\"no\"\n",
       "    width=\"820px\"\n",
       "    height=\"545px\"\n",
       "    src=\"iframe_figures/figure_27.html\"\n",
       "    frameborder=\"0\"\n",
       "    allowfullscreen\n",
       "></iframe>\n"
      ]
     },
     "metadata": {},
     "output_type": "display_data"
    }
   ],
   "source": [
    "save_fig[\"2019年11月6日のボラティリティスマイル\"]"
   ]
  },
  {
   "cell_type": "markdown",
   "id": "e927f3aa",
   "metadata": {
    "slideshow": {
     "slide_type": "subslide"
    }
   },
   "source": [
    "### トレード損益\n",
    "\n",
    "- 原資産（先物12月限）をロング\n",
    "    - @23251.99 -> 23303.82 = 51.83\n",
    "- コールオプション（12月限23500）をショート\n",
    "    - @290 -> 295 = -5\n",
    "- 損益: 46.8 = 1セット当たり: 46,800円\n",
    "- たんに先物をロングしたほうが儲かる？\n",
    "    - 仮に先物が下がっても満期までの下落が290円までなら、損益がプラスになる"
   ]
  },
  {
   "cell_type": "markdown",
   "id": "3349c58d",
   "metadata": {
    "slideshow": {
     "slide_type": "slide"
    }
   },
   "source": [
    "### どうやって分析したり可視化するコードを書くの？\n",
    "\n",
    "今回の内容はこの本を読めば書けるようになるはず\n",
    "\n",
    "<table>\n",
    "    <tr><td><img src=\"https://image.gihyo.co.jp/assets/images/cover/2020/9784297115685.jpg\" width=\"200\"></td>\n",
    "        <td><img src=\"https://www.asakura.co.jp/user_data/product_image/12258/1.jpg\" width=\"200\"></td>\n",
    "    </tr>\n",
    "</table>"
   ]
  },
  {
   "cell_type": "markdown",
   "id": "d324aa65",
   "metadata": {
    "slideshow": {
     "slide_type": "subslide"
    }
   },
   "source": [
    "## まとめ\n",
    "\n",
    "- J-Quants APIから得られるデータだけでも、有効に使える\n",
    "    - 今回は時間が限らているので、活用方法のごく一例だけを紹介\n",
    "- データを活用するにはツールが必要 ← 作ったので使ってね\n",
    "- オプションを活用することでトレードの幅が広がる"
   ]
  }
 ],
 "metadata": {
  "celltoolbar": "Slideshow",
  "kernelspec": {
   "display_name": "Python 3 (ipykernel)",
   "language": "python",
   "name": "python3"
  },
  "language_info": {
   "codemirror_mode": {
    "name": "ipython",
    "version": 3
   },
   "file_extension": ".py",
   "mimetype": "text/x-python",
   "name": "python",
   "nbconvert_exporter": "python",
   "pygments_lexer": "ipython3",
   "version": "3.11.3"
  }
 },
 "nbformat": 4,
 "nbformat_minor": 5
}
